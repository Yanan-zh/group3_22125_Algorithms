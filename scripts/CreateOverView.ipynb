{
 "cells": [
  {
   "cell_type": "code",
   "execution_count": null,
   "metadata": {},
   "outputs": [],
   "source": [
    "import os\n",
    "\n",
    "# Define the directory where the result files are located\n",
    "results_dir = \"/Users/einar/Documents/algo/code/Project/results\"\n",
    "\n",
    "# Create a list to store the overview data\n",
    "overview_data = []\n",
    "\n",
    "# Loop over the result files in the directory\n",
    "for file_name in os.listdir(results_dir):\n",
    "    if file_name.endswith(\"_results.txt\"):\n",
    "        file_path = os.path.join(results_dir, file_name)\n",
    "        \n",
    "        # Read the result file\n",
    "        with open(file_path, \"r\") as f:\n",
    "            lines = f.readlines()\n",
    "            dataset_name = lines[0].strip().split(\":\")[1].strip()\n",
    "            pcc = float(lines[3].strip().split(\":\")[1].strip())\n",
    "            mse = float(lines[2].strip().split(\":\")[1].strip())\n",
    "            \n",
    "            # Append the dataset name, PCC, and MSE to the overview data list\n",
    "            overview_data.append([dataset_name, pcc, mse])\n",
    "\n",
    "# Sort the overview data based on dataset name\n",
    "overview_data.sort(key=lambda x: x[0])\n",
    "\n",
    "# Create the overview file\n",
    "overview_file_path = os.path.join(results_dir, \"overview.txt\")\n",
    "with open(overview_file_path, \"w\") as f:\n",
    "    f.write(\"Dataset\\tPCC\\tMSE\\n\")\n",
    "    for data in overview_data:\n",
    "        f.write(\"{}\\t{}\\t{}\\n\".format(data[0], data[1], data[2]))\n",
    "\n",
    "print(\"Overview file created successfully.\")"
   ]
  }
 ],
 "metadata": {
  "language_info": {
   "name": "python"
  },
  "orig_nbformat": 4
 },
 "nbformat": 4,
 "nbformat_minor": 2
}
